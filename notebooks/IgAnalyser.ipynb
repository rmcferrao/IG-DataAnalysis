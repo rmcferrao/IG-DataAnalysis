{
 "metadata": {
  "language_info": {
   "codemirror_mode": {
    "name": "ipython",
    "version": 3
   },
   "file_extension": ".py",
   "mimetype": "text/x-python",
   "name": "python",
   "nbconvert_exporter": "python",
   "pygments_lexer": "ipython3",
   "version": "3.6.9-final"
  },
  "orig_nbformat": 2,
  "kernelspec": {
   "name": "python36964bitvenvvenvd92de9b413e2409c8be05b6d8ac1c341",
   "display_name": "Python 3.6.9 64-bit ('venv': venv)"
  }
 },
 "nbformat": 4,
 "nbformat_minor": 2,
 "cells": [
  {
   "cell_type": "markdown",
   "metadata": {},
   "source": [
    "## Libs Imports"
   ]
  },
  {
   "cell_type": "code",
   "execution_count": null,
   "metadata": {},
   "outputs": [],
   "source": [
    "from os.path import dirname, join, abspath\n",
    "from os import getcwd\n",
    "from collections import Counter\n",
    "from wordcloud import WordCloud\n",
    "import seaborn as sns\n",
    "import matplotlib as mp\n",
    "import matplotlib.pyplot as plt\n",
    "import matplotlib.dates as mdates\n",
    "import numpy as np\n",
    "import pandas as pd\n",
    "import networkx as nx\n",
    "import datetime\n",
    "import json\n",
    "import sys\n",
    "\n",
    "\n",
    "sys.path.append('..')\n",
    "from src.d01_cleandata.DataFilter import flatList\n",
    "\n",
    "font = {'family' :'serif',\n",
    "        'size'   : 14}\n",
    "\n",
    "mp.rc('font', **font)\n",
    "mp.rc('xtick', labelsize='small')\n",
    "mp.rc('ytick', labelsize='small')\n",
    "\n",
    "ROOT_FOLDER_PATH = dirname(getcwd())\n",
    "DATA_PATH = join(ROOT_FOLDER_PATH, 'data')\n",
    "SAVE_PATH = join(ROOT_FOLDER_PATH, 'sampleImages')"
   ]
  },
  {
   "cell_type": "markdown",
   "metadata": {},
   "source": [
    "## Scrapped IG users"
   ]
  },
  {
   "cell_type": "code",
   "execution_count": null,
   "metadata": {},
   "outputs": [],
   "source": [
    "igUsers = ['luizaquental', 'gretathunberg', 'morganfreeman', 'neymarjr']\n",
    "igUser = igUsers[3]"
   ]
  },
  {
   "cell_type": "markdown",
   "metadata": {},
   "source": [
    "## Entry of Json data of users and date formatting"
   ]
  },
  {
   "cell_type": "code",
   "execution_count": null,
   "metadata": {},
   "outputs": [],
   "source": [
    "with open(join(DATA_PATH, igUser + '-cleanned.json')) as f:\n",
    "    dataJson = json.load(f)\n",
    "\n",
    "dataDict = pd.DataFrame.from_dict(dataJson).transpose()\n",
    "dataDict['date'] = pd.to_datetime(dataDict['date'], format='%Y-%m-%d')"
   ]
  },
  {
   "cell_type": "markdown",
   "metadata": {},
   "source": [
    "## Histogram plot of the time it was posted"
   ]
  },
  {
   "cell_type": "code",
   "execution_count": null,
   "metadata": {
    "tags": []
   },
   "outputs": [],
   "source": [
    "dataDict['hour'].plot.hist(bins=49, figsize=(12,6), color='darkblue', lw=0)\n",
    "\n",
    "plt.ylabel('Number of Posts')\n",
    "plt.xlabel('Hour Posted')\n",
    "plt.xlim(0,24)\n",
    "plt.xticks((0,6, 12, 18, 24))\n",
    "\n",
    "plt.savefig(join(SAVE_PATH, 'postTime-' + igUser + '.png'))"
   ]
  },
  {
   "cell_type": "markdown",
   "metadata": {},
   "source": [
    "## Pie plot of types of post"
   ]
  },
  {
   "cell_type": "code",
   "execution_count": null,
   "metadata": {},
   "outputs": [],
   "source": [
    "pieDf = pd.DataFrame()\n",
    "pieDf['posts'] = Counter(dataDict['type']).values()\n",
    "pieDf.index = Counter(dataDict['type']).keys()\n",
    "\n",
    "def make_autopct(values):\n",
    "    def my_autopct(pct):\n",
    "        total = sum(values)\n",
    "        val = int(round(pct*total/100.0))\n",
    "        return '{p:.2f}%  ({v:d})'.format(p=pct,v=val)\n",
    "    return my_autopct\n",
    "\n",
    "pieDf.plot.pie(y='posts', \n",
    "                figsize=(12, 6), \n",
    "                wedgeprops=dict(width=0.6), \n",
    "                startangle=-30, \n",
    "                autopct=make_autopct(pieDf['posts']), \n",
    "                labels=['Photos', 'Videos'], \n",
    "                colors=[ 'dodgerblue', 'sandybrown'])\n",
    "plt.legend('')\n",
    "plt.ylabel('')\n",
    "plt.savefig(join(SAVE_PATH, 'typeOfPost-' + igUser + '.png'))"
   ]
  },
  {
   "cell_type": "markdown",
   "metadata": {},
   "source": [
    "## Variation of Number of Likes with date"
   ]
  },
  {
   "cell_type": "code",
   "execution_count": null,
   "metadata": {},
   "outputs": [],
   "source": [
    "dataLikes = dataDict[['likes','date']][::-1].reset_index(drop=True)\n",
    "dataLikes = dataLikes[dataLikes['likes'] != -1]\n",
    "dataLikes.set_index('date',inplace=True)\n",
    "dataLikes['MA'] = dataLikes['likes'].rolling(window=30).mean()\n",
    "\n",
    "#plot data\n",
    "fig, ax = plt.subplots(figsize=(15,7))\n",
    "dataLikes.plot.line(y='likes', ax=ax, legend=None, style='.')\n",
    "\n",
    "markevery = 80\n",
    "dataLikes.plot.line(y='MA', ax=ax, legend=None, marker='o', markevery=markevery, linewidth=3, markersize=12)\n",
    "\n",
    "plt.ylabel('Likes')\n",
    "plt.xlabel('Date')\n",
    "\n",
    "# Rewrite the y labels\n",
    "y_labels = ax.get_yticks()\n",
    "\n",
    "y_formatter = mp.ticker.FuncFormatter(lambda x, p: format(int(x), ','))\n",
    "ax.yaxis.set_major_formatter(y_formatter)\n",
    "\n",
    "#set major ticks format\n",
    "ax.xaxis.set_major_formatter(mdates.DateFormatter(\"%Y\"))\n",
    "#set date limits\n",
    "ax.set_xlim([dataLikes.index[markevery], dataLikes.index[-1]])\n",
    "plt.savefig(join(SAVE_PATH, 'likesVersusDate-' + igUser + '.png'))"
   ]
  },
  {
   "cell_type": "markdown",
   "metadata": {},
   "source": [
    "## Visual representation of most present alternative text in posted images"
   ]
  },
  {
   "cell_type": "code",
   "execution_count": null,
   "metadata": {},
   "outputs": [],
   "source": [
    "singleTagged = flatList(flatList(dataDict['image-may-contain']))\n",
    "\n",
    "tagged = []\n",
    "for item in singleTagged:\n",
    "  if item:\n",
    "    tagged.append(item)\n",
    "\n",
    "imageMayContain = dict(Counter(tagged).most_common())\n",
    "\n",
    "wordcloud = WordCloud(\n",
    "    max_font_size=60,\n",
    "    collocations=False, \n",
    "    colormap='gist_rainbow',\n",
    "    background_color='black').generate_from_frequencies(imageMayContain)\n",
    "\n",
    "fig, ax = plt.subplots(figsize=(14,8))\n",
    "\n",
    "ax.imshow(wordcloud, interpolation=\"bilinear\")\n",
    "ax.axis(\"off\")\n",
    "plt.savefig(join(SAVE_PATH, 'altImage-' + igUser + '.png'))\n"
   ]
  },
  {
   "cell_type": "markdown",
   "metadata": {},
   "source": [
    "## Network graph of tagged in the same photo"
   ]
  },
  {
   "cell_type": "markdown",
   "metadata": {},
   "source": [
    "### remove None from tagged list"
   ]
  },
  {
   "cell_type": "code",
   "execution_count": null,
   "metadata": {
    "tags": []
   },
   "outputs": [],
   "source": [
    "taggedPeople = []\n",
    "filterNone = lambda item: False if item == [None] else True\n",
    "\n",
    "for line in dataDict['tagged-people'].values:\n",
    "    filtered = list(filter(filterNone, line))\n",
    "    if filtered:\n",
    "        taggedPeople.append(filtered[0])"
   ]
  },
  {
   "cell_type": "markdown",
   "metadata": {},
   "source": [
    "### Remove tagged people that were not tagged that much"
   ]
  },
  {
   "cell_type": "code",
   "execution_count": null,
   "metadata": {},
   "outputs": [],
   "source": [
    "minTagged = 6\n",
    "taggedCount = dict(Counter(flatList(taggedPeople)).most_common())\n",
    "taggedCountFiltered = {key: value for key, value in taggedCount.items() if int(value) > minTagged}\n",
    "uniqueNames = list(taggedCountFiltered.keys())"
   ]
  },
  {
   "cell_type": "markdown",
   "metadata": {},
   "source": [
    "### Generate Cooccurence graph"
   ]
  },
  {
   "cell_type": "code",
   "execution_count": null,
   "metadata": {
    "tags": []
   },
   "outputs": [],
   "source": [
    "coOccurence = pd.DataFrame(0, index=uniqueNames, columns=uniqueNames)\n",
    "\n",
    "for taggedWith in taggedPeople:\n",
    "    for i, person1 in enumerate(taggedWith):\n",
    "        for person2 in taggedWith[i+1:]:\n",
    "\n",
    "            if not person1 in uniqueNames or not person2 in uniqueNames:\n",
    "                continue\n",
    "\n",
    "            else:\n",
    "                coOccurence[person1][person2] += 1\n",
    "                coOccurence[person2][person1] += 1"
   ]
  },
  {
   "cell_type": "markdown",
   "metadata": {},
   "source": [
    "### Add weights to edges"
   ]
  },
  {
   "cell_type": "code",
   "execution_count": null,
   "metadata": {
    "tags": []
   },
   "outputs": [],
   "source": [
    "edgeList = []\n",
    "for index, row in coOccurence.iterrows():\n",
    "    i = 0\n",
    "    for col in row:\n",
    "        weight = float(col)/464\n",
    "        edgeList.append((index, coOccurence.columns[i], weight))\n",
    "        i += 1\n",
    "\n",
    "#Remove edge if 0.0\n",
    "updatedEdgeList = [x for x in edgeList if not x[2] == 0.0]"
   ]
  },
  {
   "cell_type": "code",
   "execution_count": null,
   "metadata": {},
   "outputs": [],
   "source": [
    "fixedWidth = 0.01\n",
    "updatedEdgeList2 = [[x[0], x[1], fixedWidth] for x in updatedEdgeList]"
   ]
  },
  {
   "cell_type": "markdown",
   "metadata": {},
   "source": [
    "### Plot network graph"
   ]
  },
  {
   "cell_type": "code",
   "execution_count": null,
   "metadata": {},
   "outputs": [],
   "source": [
    "max(list(taggedCountFiltered.values()))"
   ]
  },
  {
   "cell_type": "code",
   "execution_count": null,
   "metadata": {},
   "outputs": [],
   "source": [
    "sizes = []\n",
    "\n",
    "\n",
    "\n",
    "\n",
    "\n"
   ]
  },
  {
   "cell_type": "code",
   "execution_count": null,
   "metadata": {},
   "outputs": [],
   "source": [
    "#set canvas size\n",
    "plt.subplots(figsize=(18,14))\n",
    "\n",
    "#networkx graph\n",
    "G = nx.Graph()\n",
    "G.add_weighted_edges_from(updatedEdgeList2)\n",
    "            \n",
    "#reorder edge list\n",
    "test = nx.get_edge_attributes(G, 'weight')\n",
    "updatedAgainEdges = []\n",
    "for i in nx.edges(G):\n",
    "    for x in test.keys():\n",
    "        if i[0] == x[0] and i[1] == x[1]:\n",
    "            updatedAgainEdges.append(test[x])\n",
    "\n",
    "# taggedCount = dict(Counter(flatList(taggedPeople)).most_common())\n",
    "# taggedCountFiltered = {key: value for key, value in taggedCount.items() if int(value) > minTagged}\n",
    "\n",
    "#drawing custimization\n",
    "nodeScalar = 1500\n",
    "edgeScalar = 90\n",
    "widths = [x*edgeScalar for x in updatedAgainEdges]\n",
    "\n",
    "maxTagged = max(list(taggedCountFiltered.values()))\n",
    "minTagged = min(list(taggedCountFiltered.values()))\n",
    "sizes = [(taggedCountFiltered[name] / maxTagged) * nodeScalar for name in G.nodes()]\n",
    "\n",
    "#draw the graph\n",
    "pos = nx.spring_layout(G, iterations=50)\n",
    "\n",
    "nx.draw(G, \n",
    "        pos, \n",
    "        with_labels=True,\n",
    "        font_size = 12, \n",
    "        font_weight = 'bold',\n",
    "        node_size = sizes,\n",
    "        width = widths, \n",
    "        node_color='red', \n",
    "        edge_color='gray', \n",
    "        alpha=0.9)\n",
    "\n",
    "plt.savefig(join(SAVE_PATH, 'networkTaggedPeople-' + igUser + '.png'))"
   ]
  },
  {
   "cell_type": "code",
   "execution_count": null,
   "metadata": {},
   "outputs": [],
   "source": []
  }
 ]
}